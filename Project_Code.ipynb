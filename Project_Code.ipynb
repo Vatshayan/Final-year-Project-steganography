{
  "nbformat": 4,
  "nbformat_minor": 0,
  "metadata": {
    "colab": {
      "name": "Project_Code.ipynb",
      "provenance": []
    },
    "kernelspec": {
      "name": "python3",
      "display_name": "Python 3"
    }
  },
  "cells": [
    {
      "cell_type": "markdown",
      "metadata": {
        "id": "hi2vkiIkxx3X"
      },
      "source": [
        "**HIGH END STENEOGRAPHY PROJECT**"
      ]
    },
    {
      "cell_type": "markdown",
      "metadata": {
        "id": "6rKZgTxBx140"
      },
      "source": [
        "This Project Can be used by Indian army, RAW, Police and Intellgiance aggency for Special Emergency operation. "
      ]
    },
    {
      "cell_type": "code",
      "metadata": {
        "id": "ePHkdVrZxRQX"
      },
      "source": [
        "import cv2\r\n",
        "import numpy as np\r\n",
        "import types\r\n",
        "from google.colab.patches import cv2_imshow \r\n",
        "#image using cv2.imshow() thus use this import"
      ],
      "execution_count": 3,
      "outputs": []
    },
    {
      "cell_type": "markdown",
      "metadata": {
        "id": "7GN-tGAxxS8J"
      },
      "source": [
        "This is Just a Demo, If you want Full Project Code. Then Mail me Now\r\n"
      ]
    },
    {
      "cell_type": "markdown",
      "metadata": {
        "id": "gF-17HKRxnQx"
      },
      "source": [
        "Mail me **vatshayan007@gmail.com** for Full Project Code, PPT and Report ASAP."
      ]
    }
  ]
}